{
 "cells": [
  {
   "attachments": {},
   "cell_type": "markdown",
   "metadata": {},
   "source": [
    "# Ejemplo API sencilla"
   ]
  },
  {
   "attachments": {},
   "cell_type": "markdown",
   "metadata": {},
   "source": [
    "Pagina APIS publicas: https://github.com/public-apis/public-apis#finance\n",
    "\n",
    "Primer ejemplo: econdb"
   ]
  },
  {
   "attachments": {},
   "cell_type": "markdown",
   "metadata": {},
   "source": [
    "# Consumer Price index"
   ]
  },
  {
   "cell_type": "code",
   "execution_count": 1,
   "metadata": {},
   "outputs": [],
   "source": [
    "import pandas as pd\n",
    "\n",
    "API_TOKEN = '97c58ad355a11b2f37569e6c27e07a0fb88fa640'\n",
    "\n",
    "df = pd.read_csv(\n",
    "    'https://www.econdb.com/api/series/URATEUS/?token=%s&format=csv' % API_TOKEN,\n",
    "    index_col='Date', parse_dates=['Date'])"
   ]
  },
  {
   "cell_type": "code",
   "execution_count": 45,
   "metadata": {},
   "outputs": [
    {
     "data": {
      "text/html": [
       "<div>\n",
       "<style scoped>\n",
       "    .dataframe tbody tr th:only-of-type {\n",
       "        vertical-align: middle;\n",
       "    }\n",
       "\n",
       "    .dataframe tbody tr th {\n",
       "        vertical-align: top;\n",
       "    }\n",
       "\n",
       "    .dataframe thead th {\n",
       "        text-align: right;\n",
       "    }\n",
       "</style>\n",
       "<table border=\"1\" class=\"dataframe\">\n",
       "  <thead>\n",
       "    <tr style=\"text-align: right;\">\n",
       "      <th></th>\n",
       "      <th>CPIUS</th>\n",
       "    </tr>\n",
       "    <tr>\n",
       "      <th>Date</th>\n",
       "      <th></th>\n",
       "    </tr>\n",
       "  </thead>\n",
       "  <tbody>\n",
       "    <tr>\n",
       "      <th>1947-01-01</th>\n",
       "      <td>21.48</td>\n",
       "    </tr>\n",
       "    <tr>\n",
       "      <th>1947-02-01</th>\n",
       "      <td>21.62</td>\n",
       "    </tr>\n",
       "    <tr>\n",
       "      <th>1947-03-01</th>\n",
       "      <td>22.00</td>\n",
       "    </tr>\n",
       "    <tr>\n",
       "      <th>1947-04-01</th>\n",
       "      <td>22.00</td>\n",
       "    </tr>\n",
       "    <tr>\n",
       "      <th>1947-05-01</th>\n",
       "      <td>21.95</td>\n",
       "    </tr>\n",
       "  </tbody>\n",
       "</table>\n",
       "</div>"
      ],
      "text/plain": [
       "            CPIUS\n",
       "Date             \n",
       "1947-01-01  21.48\n",
       "1947-02-01  21.62\n",
       "1947-03-01  22.00\n",
       "1947-04-01  22.00\n",
       "1947-05-01  21.95"
      ]
     },
     "execution_count": 45,
     "metadata": {},
     "output_type": "execute_result"
    }
   ],
   "source": [
    "import pandas as pd\n",
    "\n",
    "API_TOKEN = '9ef3a111f8a84eaf8fd190d66ff6f2dc271bf766'\n",
    "\n",
    "df = pd.read_csv(\n",
    "    'https://www.econdb.com/api/series/CPIUS/?token=%s&format=csv' % API_TOKEN,\n",
    "    index_col='Date', parse_dates=['Date'])\n",
    "df.head()"
   ]
  },
  {
   "cell_type": "code",
   "execution_count": 2,
   "metadata": {},
   "outputs": [
    {
     "data": {
      "text/html": [
       "<div>\n",
       "<style scoped>\n",
       "    .dataframe tbody tr th:only-of-type {\n",
       "        vertical-align: middle;\n",
       "    }\n",
       "\n",
       "    .dataframe tbody tr th {\n",
       "        vertical-align: top;\n",
       "    }\n",
       "\n",
       "    .dataframe thead th {\n",
       "        text-align: right;\n",
       "    }\n",
       "</style>\n",
       "<table border=\"1\" class=\"dataframe\">\n",
       "  <thead>\n",
       "    <tr style=\"text-align: right;\">\n",
       "      <th></th>\n",
       "      <th>URATEUS</th>\n",
       "    </tr>\n",
       "    <tr>\n",
       "      <th>Date</th>\n",
       "      <th></th>\n",
       "    </tr>\n",
       "  </thead>\n",
       "  <tbody>\n",
       "    <tr>\n",
       "      <th>2022-11-01</th>\n",
       "      <td>3.6</td>\n",
       "    </tr>\n",
       "    <tr>\n",
       "      <th>2022-12-01</th>\n",
       "      <td>3.5</td>\n",
       "    </tr>\n",
       "    <tr>\n",
       "      <th>2023-01-01</th>\n",
       "      <td>3.4</td>\n",
       "    </tr>\n",
       "    <tr>\n",
       "      <th>2023-02-01</th>\n",
       "      <td>3.6</td>\n",
       "    </tr>\n",
       "    <tr>\n",
       "      <th>2023-03-01</th>\n",
       "      <td>3.5</td>\n",
       "    </tr>\n",
       "  </tbody>\n",
       "</table>\n",
       "</div>"
      ],
      "text/plain": [
       "            URATEUS\n",
       "Date               \n",
       "2022-11-01      3.6\n",
       "2022-12-01      3.5\n",
       "2023-01-01      3.4\n",
       "2023-02-01      3.6\n",
       "2023-03-01      3.5"
      ]
     },
     "execution_count": 2,
     "metadata": {},
     "output_type": "execute_result"
    }
   ],
   "source": [
    "df.tail()"
   ]
  },
  {
   "cell_type": "code",
   "execution_count": 3,
   "metadata": {},
   "outputs": [
    {
     "data": {
      "text/plain": [
       "(903, 1)"
      ]
     },
     "execution_count": 3,
     "metadata": {},
     "output_type": "execute_result"
    }
   ],
   "source": [
    "df.shape"
   ]
  },
  {
   "cell_type": "code",
   "execution_count": 4,
   "metadata": {},
   "outputs": [
    {
     "data": {
      "text/html": [
       "<div>\n",
       "<style scoped>\n",
       "    .dataframe tbody tr th:only-of-type {\n",
       "        vertical-align: middle;\n",
       "    }\n",
       "\n",
       "    .dataframe tbody tr th {\n",
       "        vertical-align: top;\n",
       "    }\n",
       "\n",
       "    .dataframe thead th {\n",
       "        text-align: right;\n",
       "    }\n",
       "</style>\n",
       "<table border=\"1\" class=\"dataframe\">\n",
       "  <thead>\n",
       "    <tr style=\"text-align: right;\">\n",
       "      <th></th>\n",
       "      <th>Date</th>\n",
       "      <th>URATEUS</th>\n",
       "    </tr>\n",
       "  </thead>\n",
       "  <tbody>\n",
       "    <tr>\n",
       "      <th>0</th>\n",
       "      <td>1948-01-01</td>\n",
       "      <td>3.4</td>\n",
       "    </tr>\n",
       "    <tr>\n",
       "      <th>1</th>\n",
       "      <td>1948-02-01</td>\n",
       "      <td>3.8</td>\n",
       "    </tr>\n",
       "    <tr>\n",
       "      <th>2</th>\n",
       "      <td>1948-03-01</td>\n",
       "      <td>4.0</td>\n",
       "    </tr>\n",
       "    <tr>\n",
       "      <th>3</th>\n",
       "      <td>1948-04-01</td>\n",
       "      <td>3.9</td>\n",
       "    </tr>\n",
       "    <tr>\n",
       "      <th>4</th>\n",
       "      <td>1948-05-01</td>\n",
       "      <td>3.5</td>\n",
       "    </tr>\n",
       "  </tbody>\n",
       "</table>\n",
       "</div>"
      ],
      "text/plain": [
       "        Date  URATEUS\n",
       "0 1948-01-01      3.4\n",
       "1 1948-02-01      3.8\n",
       "2 1948-03-01      4.0\n",
       "3 1948-04-01      3.9\n",
       "4 1948-05-01      3.5"
      ]
     },
     "execution_count": 4,
     "metadata": {},
     "output_type": "execute_result"
    }
   ],
   "source": [
    "df=df.reset_index()\n",
    "df.head()"
   ]
  },
  {
   "attachments": {},
   "cell_type": "markdown",
   "metadata": {},
   "source": [
    "Crear en conexion de destino:\n",
    "\n",
    "```SQL\n",
    "create table cpi(\n",
    "Date date,\n",
    "CPIUS float\n",
    ");\n",
    "```"
   ]
  },
  {
   "cell_type": "code",
   "execution_count": 58,
   "metadata": {},
   "outputs": [],
   "source": [
    "url=\"data-engineer-cluster.cyhh5bfevlmn.us-east-1.redshift.amazonaws\"\n",
    "data_base=\"data-engineer-database\"\n",
    "user=\"dafbustosus_coderhouse\"\n",
    "with open(\"C:/Users/Windows/Downloads/pwd_coder.txt\",'r') as f:\n",
    "    pwd= f.read()"
   ]
  },
  {
   "cell_type": "code",
   "execution_count": 59,
   "metadata": {},
   "outputs": [
    {
     "name": "stdout",
     "output_type": "stream",
     "text": [
      "Connected to Redshift successfully!\n"
     ]
    }
   ],
   "source": [
    "import psycopg2\n",
    "try:\n",
    "    conn = psycopg2.connect(\n",
    "        host='data-engineer-cluster.cyhh5bfevlmn.us-east-1.redshift.amazonaws.com',\n",
    "        dbname=data_base,\n",
    "        user=user,\n",
    "        password=pwd,\n",
    "        port='5439'\n",
    "    )\n",
    "    print(\"Connected to Redshift successfully!\")\n",
    "    \n",
    "except Exception as e:\n",
    "    print(\"Unable to connect to Redshift.\")\n",
    "    print(e)"
   ]
  },
  {
   "cell_type": "code",
   "execution_count": 52,
   "metadata": {},
   "outputs": [
    {
     "data": {
      "text/plain": [
       "[]"
      ]
     },
     "execution_count": 52,
     "metadata": {},
     "output_type": "execute_result"
    }
   ],
   "source": [
    "cur = conn.cursor()\n",
    "# Execute a SQL query to select data from a table\n",
    "cur.execute(\"SELECT * FROM cpi\")\n",
    "# Fetch the results\n",
    "results = cur.fetchall()\n",
    "results"
   ]
  },
  {
   "cell_type": "code",
   "execution_count": 53,
   "metadata": {},
   "outputs": [
    {
     "data": {
      "text/html": [
       "<div>\n",
       "<style scoped>\n",
       "    .dataframe tbody tr th:only-of-type {\n",
       "        vertical-align: middle;\n",
       "    }\n",
       "\n",
       "    .dataframe tbody tr th {\n",
       "        vertical-align: top;\n",
       "    }\n",
       "\n",
       "    .dataframe thead th {\n",
       "        text-align: right;\n",
       "    }\n",
       "</style>\n",
       "<table border=\"1\" class=\"dataframe\">\n",
       "  <thead>\n",
       "    <tr style=\"text-align: right;\">\n",
       "      <th></th>\n",
       "      <th>Date</th>\n",
       "      <th>CPIUS</th>\n",
       "    </tr>\n",
       "  </thead>\n",
       "  <tbody>\n",
       "    <tr>\n",
       "      <th>0</th>\n",
       "      <td>1947-01-01</td>\n",
       "      <td>21.48</td>\n",
       "    </tr>\n",
       "    <tr>\n",
       "      <th>1</th>\n",
       "      <td>1947-02-01</td>\n",
       "      <td>21.62</td>\n",
       "    </tr>\n",
       "    <tr>\n",
       "      <th>2</th>\n",
       "      <td>1947-03-01</td>\n",
       "      <td>22.00</td>\n",
       "    </tr>\n",
       "    <tr>\n",
       "      <th>3</th>\n",
       "      <td>1947-04-01</td>\n",
       "      <td>22.00</td>\n",
       "    </tr>\n",
       "    <tr>\n",
       "      <th>4</th>\n",
       "      <td>1947-05-01</td>\n",
       "      <td>21.95</td>\n",
       "    </tr>\n",
       "  </tbody>\n",
       "</table>\n",
       "</div>"
      ],
      "text/plain": [
       "        Date  CPIUS\n",
       "0 1947-01-01  21.48\n",
       "1 1947-02-01  21.62\n",
       "2 1947-03-01  22.00\n",
       "3 1947-04-01  22.00\n",
       "4 1947-05-01  21.95"
      ]
     },
     "execution_count": 53,
     "metadata": {},
     "output_type": "execute_result"
    }
   ],
   "source": [
    "df.head()"
   ]
  },
  {
   "cell_type": "code",
   "execution_count": 54,
   "metadata": {},
   "outputs": [],
   "source": [
    "from psycopg2.extras import execute_values\n",
    "cur = conn.cursor()\n",
    "# Define the table name\n",
    "table_name = 'cpi'\n",
    "# Define the columns you want to insert data into\n",
    "columns = ['Date', 'CPIUS']\n",
    "# Generate \n",
    "values = [tuple(x) for x in df.to_numpy()]\n",
    "insert_sql = f\"INSERT INTO {table_name} ({', '.join(columns)}) VALUES %s\"\n",
    "# Execute the INSERT statement using execute_values\n",
    "cur.execute(\"BEGIN\")\n",
    "execute_values(cur, insert_sql, values)\n",
    "cur.execute(\"COMMIT\")\n",
    "# Close the cursor and connection\n",
    "#cur.close()\n",
    "#conn.close()"
   ]
  },
  {
   "attachments": {},
   "cell_type": "markdown",
   "metadata": {},
   "source": [
    "# Ejemplo API - transformacion"
   ]
  },
  {
   "attachments": {},
   "cell_type": "markdown",
   "metadata": {},
   "source": [
    "messari API: https://messari.io/api"
   ]
  },
  {
   "cell_type": "code",
   "execution_count": 1,
   "metadata": {},
   "outputs": [
    {
     "name": "stdout",
     "output_type": "stream",
     "text": [
      "\u001b[1;31mSignature:\u001b[0m \u001b[0mrequests\u001b[0m\u001b[1;33m.\u001b[0m\u001b[0mget\u001b[0m\u001b[1;33m(\u001b[0m\u001b[0murl\u001b[0m\u001b[1;33m,\u001b[0m \u001b[0mparams\u001b[0m\u001b[1;33m=\u001b[0m\u001b[1;32mNone\u001b[0m\u001b[1;33m,\u001b[0m \u001b[1;33m**\u001b[0m\u001b[0mkwargs\u001b[0m\u001b[1;33m)\u001b[0m\u001b[1;33m\u001b[0m\u001b[1;33m\u001b[0m\u001b[0m\n",
      "\u001b[1;31mDocstring:\u001b[0m\n",
      "Sends a GET request.\n",
      "\n",
      ":param url: URL for the new :class:`Request` object.\n",
      ":param params: (optional) Dictionary, list of tuples or bytes to send\n",
      "    in the query string for the :class:`Request`.\n",
      ":param \\*\\*kwargs: Optional arguments that ``request`` takes.\n",
      ":return: :class:`Response <Response>` object\n",
      ":rtype: requests.Response\n",
      "\u001b[1;31mFile:\u001b[0m      c:\\users\\windows\\appdata\\local\\packages\\pythonsoftwarefoundation.python.3.10_qbz5n2kfra8p0\\localcache\\local-packages\\python310\\site-packages\\requests\\api.py\n",
      "\u001b[1;31mType:\u001b[0m      function\n"
     ]
    }
   ],
   "source": [
    "import requests\n",
    "requests.get?"
   ]
  },
  {
   "cell_type": "code",
   "execution_count": 2,
   "metadata": {},
   "outputs": [],
   "source": [
    "import requests\n",
    "import pandas as pd\n",
    "\n",
    "url = \"https://data.messari.io/api/v1/assets/bitcoin/metrics\"\n",
    "headers = {\"Accept-Encoding\": \"gzip, deflate\"}\n",
    "\n",
    "response = requests.get(url, headers=headers)\n",
    "data = response.json()\n",
    "\n",
    "#df = pd.DataFrame.from_dict(data['data']['market_data'], orient='index')\n",
    "#print(df)"
   ]
  },
  {
   "attachments": {},
   "cell_type": "markdown",
   "metadata": {},
   "source": [
    "El `Accept-Encoding` header se usa por el cliente (en el caso de Python) para indicar los formatos de codificación que puede entender en la respuesta. Luego, el servidor puede comprimir la respuesta utilizando uno de los formatos enumerados antes de enviarla de vuelta al cliente, lo que puede ahorrar ancho de banda y mejorar el rendimiento.\n",
    "\n",
    "En este caso, \"gzip\" y \"deflate\" son dos formatos de compresión populares que el cliente indica que puede manejar. El servidor puede optar por utilizar cualquiera de los formatos para comprimir la respuesta si los admite."
   ]
  },
  {
   "cell_type": "code",
   "execution_count": null,
   "metadata": {},
   "outputs": [],
   "source": [
    "data"
   ]
  },
  {
   "cell_type": "code",
   "execution_count": 4,
   "metadata": {},
   "outputs": [
    {
     "data": {
      "text/plain": [
       "dict_keys(['status', 'data'])"
      ]
     },
     "execution_count": 4,
     "metadata": {},
     "output_type": "execute_result"
    }
   ],
   "source": [
    "data.keys()"
   ]
  },
  {
   "cell_type": "code",
   "execution_count": 5,
   "metadata": {},
   "outputs": [
    {
     "data": {
      "text/plain": [
       "'2023-05-23T23:43:04.936866438Z'"
      ]
     },
     "execution_count": 5,
     "metadata": {},
     "output_type": "execute_result"
    }
   ],
   "source": [
    "data['status']['timestamp']"
   ]
  },
  {
   "cell_type": "code",
   "execution_count": 6,
   "metadata": {},
   "outputs": [],
   "source": [
    "datax = data['data']"
   ]
  },
  {
   "cell_type": "code",
   "execution_count": null,
   "metadata": {},
   "outputs": [],
   "source": [
    "datax"
   ]
  },
  {
   "cell_type": "code",
   "execution_count": 10,
   "metadata": {},
   "outputs": [
    {
     "data": {
      "text/plain": [
       "<Response [200]>"
      ]
     },
     "execution_count": 10,
     "metadata": {},
     "output_type": "execute_result"
    }
   ],
   "source": [
    "import requests\n",
    "url = \"https://data.messari.io/api/v1/assets/bitcoin/metrics\"\n",
    "headers = {\"Accept-Encoding\": \"gzip, deflate\"}\n",
    "response = requests.get(url, headers=headers)\n",
    "response"
   ]
  },
  {
   "cell_type": "code",
   "execution_count": 9,
   "metadata": {},
   "outputs": [
    {
     "data": {
      "text/html": [
       "<div>\n",
       "<style scoped>\n",
       "    .dataframe tbody tr th:only-of-type {\n",
       "        vertical-align: middle;\n",
       "    }\n",
       "\n",
       "    .dataframe tbody tr th {\n",
       "        vertical-align: top;\n",
       "    }\n",
       "\n",
       "    .dataframe thead th {\n",
       "        text-align: right;\n",
       "    }\n",
       "</style>\n",
       "<table border=\"1\" class=\"dataframe\">\n",
       "  <thead>\n",
       "    <tr style=\"text-align: right;\">\n",
       "      <th></th>\n",
       "      <th>0</th>\n",
       "    </tr>\n",
       "  </thead>\n",
       "  <tbody>\n",
       "    <tr>\n",
       "      <th>id</th>\n",
       "      <td>1e31218a-e44e-4285-820c-8282ee222035</td>\n",
       "    </tr>\n",
       "    <tr>\n",
       "      <th>serial_id</th>\n",
       "      <td>6057</td>\n",
       "    </tr>\n",
       "    <tr>\n",
       "      <th>symbol</th>\n",
       "      <td>BTC</td>\n",
       "    </tr>\n",
       "    <tr>\n",
       "      <th>name</th>\n",
       "      <td>Bitcoin</td>\n",
       "    </tr>\n",
       "    <tr>\n",
       "      <th>slug</th>\n",
       "      <td>bitcoin</td>\n",
       "    </tr>\n",
       "    <tr>\n",
       "      <th>contract_addresses</th>\n",
       "      <td>None</td>\n",
       "    </tr>\n",
       "    <tr>\n",
       "      <th>_internal_temp_agora_id</th>\n",
       "      <td>9793eae6-f374-46b4-8764-c2d224429791</td>\n",
       "    </tr>\n",
       "    <tr>\n",
       "      <th>market_data</th>\n",
       "      <td>{'price_usd': 27200.835514165432, 'price_btc':...</td>\n",
       "    </tr>\n",
       "    <tr>\n",
       "      <th>marketcap</th>\n",
       "      <td>{'rank': 1, 'marketcap_dominance_percent': 45....</td>\n",
       "    </tr>\n",
       "    <tr>\n",
       "      <th>supply</th>\n",
       "      <td>{'y_2050': 20986335.65, 'y_plus10': 20727672.4...</td>\n",
       "    </tr>\n",
       "    <tr>\n",
       "      <th>blockchain_stats_24_hours</th>\n",
       "      <td>{'count_of_active_addresses': 817592, 'transac...</td>\n",
       "    </tr>\n",
       "    <tr>\n",
       "      <th>market_data_liquidity</th>\n",
       "      <td>{'clearing_prices_to_sell': None, 'marketcap':...</td>\n",
       "    </tr>\n",
       "    <tr>\n",
       "      <th>all_time_high</th>\n",
       "      <td>{'price': 68753.85761733251, 'at': '2021-11-10...</td>\n",
       "    </tr>\n",
       "    <tr>\n",
       "      <th>cycle_low</th>\n",
       "      <td>{'price': 13701.040774823985, 'at': '2023-01-0...</td>\n",
       "    </tr>\n",
       "    <tr>\n",
       "      <th>token_sale_stats</th>\n",
       "      <td>{'sale_proceeds_usd': None, 'sale_start_date':...</td>\n",
       "    </tr>\n",
       "    <tr>\n",
       "      <th>mining_stats</th>\n",
       "      <td>{'mining_algo': 'SHA-256', 'network_hash_rate'...</td>\n",
       "    </tr>\n",
       "    <tr>\n",
       "      <th>developer_activity</th>\n",
       "      <td>{'stars': 69651, 'watchers': 3934, 'commits_la...</td>\n",
       "    </tr>\n",
       "    <tr>\n",
       "      <th>roi_data</th>\n",
       "      <td>{'percent_change_last_1_week': 0.6197385777801...</td>\n",
       "    </tr>\n",
       "    <tr>\n",
       "      <th>roi_by_year</th>\n",
       "      <td>{'2021_usd_percent': 57.15628017931246, '2020_...</td>\n",
       "    </tr>\n",
       "    <tr>\n",
       "      <th>risk_metrics</th>\n",
       "      <td>{'sharpe_ratios': {'last_30_days': -0.44796932...</td>\n",
       "    </tr>\n",
       "    <tr>\n",
       "      <th>misc_data</th>\n",
       "      <td>{'private_market_price_usd': None, 'vladimir_c...</td>\n",
       "    </tr>\n",
       "    <tr>\n",
       "      <th>reddit</th>\n",
       "      <td>{'active_user_count': 8450, 'subscribers': 496...</td>\n",
       "    </tr>\n",
       "    <tr>\n",
       "      <th>on_chain_data</th>\n",
       "      <td>{'addresses_count': 47439459, 'active_addresse...</td>\n",
       "    </tr>\n",
       "    <tr>\n",
       "      <th>exchange_flows</th>\n",
       "      <td>{'flow_in_exchange_native_units': 13456.788069...</td>\n",
       "    </tr>\n",
       "    <tr>\n",
       "      <th>miner_flows</th>\n",
       "      <td>{'supply_1hop_miners_usd': 68626908172.66436, ...</td>\n",
       "    </tr>\n",
       "    <tr>\n",
       "      <th>supply_activity</th>\n",
       "      <td>{'supply_active_10y': 16503613.93570684, 'supp...</td>\n",
       "    </tr>\n",
       "    <tr>\n",
       "      <th>supply_distribution</th>\n",
       "      <td>{'supply_in_addresses_balance_greater_0_001_na...</td>\n",
       "    </tr>\n",
       "    <tr>\n",
       "      <th>alert_messages</th>\n",
       "      <td>None</td>\n",
       "    </tr>\n",
       "  </tbody>\n",
       "</table>\n",
       "</div>"
      ],
      "text/plain": [
       "                                                                           0\n",
       "id                                      1e31218a-e44e-4285-820c-8282ee222035\n",
       "serial_id                                                               6057\n",
       "symbol                                                                   BTC\n",
       "name                                                                 Bitcoin\n",
       "slug                                                                 bitcoin\n",
       "contract_addresses                                                      None\n",
       "_internal_temp_agora_id                 9793eae6-f374-46b4-8764-c2d224429791\n",
       "market_data                {'price_usd': 27200.835514165432, 'price_btc':...\n",
       "marketcap                  {'rank': 1, 'marketcap_dominance_percent': 45....\n",
       "supply                     {'y_2050': 20986335.65, 'y_plus10': 20727672.4...\n",
       "blockchain_stats_24_hours  {'count_of_active_addresses': 817592, 'transac...\n",
       "market_data_liquidity      {'clearing_prices_to_sell': None, 'marketcap':...\n",
       "all_time_high              {'price': 68753.85761733251, 'at': '2021-11-10...\n",
       "cycle_low                  {'price': 13701.040774823985, 'at': '2023-01-0...\n",
       "token_sale_stats           {'sale_proceeds_usd': None, 'sale_start_date':...\n",
       "mining_stats               {'mining_algo': 'SHA-256', 'network_hash_rate'...\n",
       "developer_activity         {'stars': 69651, 'watchers': 3934, 'commits_la...\n",
       "roi_data                   {'percent_change_last_1_week': 0.6197385777801...\n",
       "roi_by_year                {'2021_usd_percent': 57.15628017931246, '2020_...\n",
       "risk_metrics               {'sharpe_ratios': {'last_30_days': -0.44796932...\n",
       "misc_data                  {'private_market_price_usd': None, 'vladimir_c...\n",
       "reddit                     {'active_user_count': 8450, 'subscribers': 496...\n",
       "on_chain_data              {'addresses_count': 47439459, 'active_addresse...\n",
       "exchange_flows             {'flow_in_exchange_native_units': 13456.788069...\n",
       "miner_flows                {'supply_1hop_miners_usd': 68626908172.66436, ...\n",
       "supply_activity            {'supply_active_10y': 16503613.93570684, 'supp...\n",
       "supply_distribution        {'supply_in_addresses_balance_greater_0_001_na...\n",
       "alert_messages                                                          None"
      ]
     },
     "execution_count": 9,
     "metadata": {},
     "output_type": "execute_result"
    }
   ],
   "source": [
    "datax = data['data']\n",
    "dt = pd.DataFrame.from_dict(datax, orient='index')\n",
    "dt"
   ]
  },
  {
   "cell_type": "code",
   "execution_count": 10,
   "metadata": {},
   "outputs": [
    {
     "data": {
      "text/plain": [
       "{'mining_algo': 'SHA-256',\n",
       " 'network_hash_rate': '389770 PH/s',\n",
       " 'available_on_nicehash_percent': 0.03159645632061036,\n",
       " '1_hour_attack_cost': None,\n",
       " '24_hours_attack_cost': None,\n",
       " 'attack_appeal': None,\n",
       " 'hash_rate': 354690591.130938,\n",
       " 'hash_rate_30d_average': 350197391.26665026,\n",
       " 'mining_revenue_per_hash_usd': 8.50742e-07,\n",
       " 'mining_revenue_per_hash_native_units': 3.2e-11,\n",
       " 'mining_revenue_per_hash_per_second_usd': 0.073504145346,\n",
       " 'mining_revenue_per_hash_per_second_native_units': 2.736694e-06,\n",
       " 'mining_revenue_from_fees_percent_last_24_hours': 7.281457362,\n",
       " 'mining_revenue_native': 970.67962286,\n",
       " 'mining_revenue_usd': 26071228.76349346,\n",
       " 'mining_revenue_total': 50869797144.95894,\n",
       " 'average_difficulty': 49549703178592.68}"
      ]
     },
     "execution_count": 10,
     "metadata": {},
     "output_type": "execute_result"
    }
   ],
   "source": [
    "dt.loc['mining_stats'][0]"
   ]
  },
  {
   "cell_type": "code",
   "execution_count": 11,
   "metadata": {},
   "outputs": [
    {
     "data": {
      "text/html": [
       "<div>\n",
       "<style scoped>\n",
       "    .dataframe tbody tr th:only-of-type {\n",
       "        vertical-align: middle;\n",
       "    }\n",
       "\n",
       "    .dataframe tbody tr th {\n",
       "        vertical-align: top;\n",
       "    }\n",
       "\n",
       "    .dataframe thead th {\n",
       "        text-align: right;\n",
       "    }\n",
       "</style>\n",
       "<table border=\"1\" class=\"dataframe\">\n",
       "  <thead>\n",
       "    <tr style=\"text-align: right;\">\n",
       "      <th></th>\n",
       "      <th>mining_algo</th>\n",
       "      <th>network_hash_rate</th>\n",
       "      <th>available_on_nicehash_percent</th>\n",
       "      <th>1_hour_attack_cost</th>\n",
       "      <th>24_hours_attack_cost</th>\n",
       "      <th>attack_appeal</th>\n",
       "      <th>hash_rate</th>\n",
       "      <th>hash_rate_30d_average</th>\n",
       "      <th>mining_revenue_per_hash_usd</th>\n",
       "      <th>mining_revenue_per_hash_native_units</th>\n",
       "      <th>mining_revenue_per_hash_per_second_usd</th>\n",
       "      <th>mining_revenue_per_hash_per_second_native_units</th>\n",
       "      <th>mining_revenue_from_fees_percent_last_24_hours</th>\n",
       "      <th>mining_revenue_native</th>\n",
       "      <th>mining_revenue_usd</th>\n",
       "      <th>mining_revenue_total</th>\n",
       "      <th>average_difficulty</th>\n",
       "      <th>Date</th>\n",
       "    </tr>\n",
       "  </thead>\n",
       "  <tbody>\n",
       "    <tr>\n",
       "      <th>0</th>\n",
       "      <td>SHA-256</td>\n",
       "      <td>389770 PH/s</td>\n",
       "      <td>0.031596</td>\n",
       "      <td>None</td>\n",
       "      <td>None</td>\n",
       "      <td>None</td>\n",
       "      <td>354690591.130938</td>\n",
       "      <td>350197391.26665</td>\n",
       "      <td>0.000001</td>\n",
       "      <td>0.0</td>\n",
       "      <td>0.073504</td>\n",
       "      <td>0.000003</td>\n",
       "      <td>7.281457</td>\n",
       "      <td>970.679623</td>\n",
       "      <td>26071228.763493</td>\n",
       "      <td>50869797144.958939</td>\n",
       "      <td>49549703178592.679688</td>\n",
       "      <td>2023-05-23T23:43:04.936866438Z</td>\n",
       "    </tr>\n",
       "  </tbody>\n",
       "</table>\n",
       "</div>"
      ],
      "text/plain": [
       "  mining_algo network_hash_rate available_on_nicehash_percent  \\\n",
       "0     SHA-256       389770 PH/s                      0.031596   \n",
       "\n",
       "  1_hour_attack_cost 24_hours_attack_cost attack_appeal         hash_rate  \\\n",
       "0               None                 None          None  354690591.130938   \n",
       "\n",
       "  hash_rate_30d_average mining_revenue_per_hash_usd  \\\n",
       "0       350197391.26665                    0.000001   \n",
       "\n",
       "  mining_revenue_per_hash_native_units mining_revenue_per_hash_per_second_usd  \\\n",
       "0                                  0.0                               0.073504   \n",
       "\n",
       "  mining_revenue_per_hash_per_second_native_units  \\\n",
       "0                                        0.000003   \n",
       "\n",
       "  mining_revenue_from_fees_percent_last_24_hours mining_revenue_native  \\\n",
       "0                                       7.281457            970.679623   \n",
       "\n",
       "  mining_revenue_usd mining_revenue_total     average_difficulty  \\\n",
       "0    26071228.763493   50869797144.958939  49549703178592.679688   \n",
       "\n",
       "                             Date  \n",
       "0  2023-05-23T23:43:04.936866438Z  "
      ]
     },
     "execution_count": 11,
     "metadata": {},
     "output_type": "execute_result"
    }
   ],
   "source": [
    "extract=dt.loc['mining_stats'][0]\n",
    "e = pd.DataFrame.from_dict(extract, orient='index', columns=['value']).transpose().reset_index(drop=True)\n",
    "e['Date'] = data['status']['timestamp']\n",
    "e"
   ]
  },
  {
   "cell_type": "code",
   "execution_count": 12,
   "metadata": {},
   "outputs": [
    {
     "name": "stdout",
     "output_type": "stream",
     "text": [
      "Index(['mining_algo', 'network_hash_rate', 'available_on_nicehash_percent',\n",
      "       '1_hour_attack_cost', '24_hours_attack_cost', 'attack_appeal',\n",
      "       'hash_rate', 'hash_rate_30d_average', 'mining_revenue_per_hash_usd',\n",
      "       'mining_revenue_per_hash_native_units',\n",
      "       'mining_revenue_per_hash_per_second_usd',\n",
      "       'mining_revenue_per_hash_per_second_native_units',\n",
      "       'mining_revenue_from_fees_percent_last_24_hours',\n",
      "       'mining_revenue_native', 'mining_revenue_usd', 'mining_revenue_total',\n",
      "       'average_difficulty', 'Date'],\n",
      "      dtype='object')\n"
     ]
    }
   ],
   "source": [
    "print(e.columns)"
   ]
  },
  {
   "attachments": {},
   "cell_type": "markdown",
   "metadata": {},
   "source": [
    "```SQL\n",
    "CREATE TABLE mining_data (\n",
    "  mining_algo VARCHAR(20),\n",
    "  network_hash_rate VARCHAR(20),\n",
    "  available_on_nicehash_percent FLOAT,\n",
    "  one_hour_attack_cost FLOAT,\n",
    "  twenty_four_hours_attack_cost FLOAT,\n",
    "  attack_appeal FLOAT,\n",
    "  hash_rate FLOAT,\n",
    "  hash_rate_30d_average FLOAT,\n",
    "  mining_revenue_per_hash_usd FLOAT,\n",
    "  mining_revenue_per_hash_native_units FLOAT,\n",
    "  mining_revenue_per_hash_per_second_usd FLOAT,\n",
    "  mining_revenue_per_hash_per_second_native_units FLOAT,\n",
    "  mining_revenue_from_fees_percent_last_24_hours FLOAT,\n",
    "  mining_revenue_native FLOAT,\n",
    "  mining_revenue_usd FLOAT,\n",
    "  mining_revenue_total FLOAT,\n",
    "  average_difficulty FLOAT,\n",
    "  Date TIMESTAMP\n",
    ");\n",
    "```"
   ]
  },
  {
   "cell_type": "code",
   "execution_count": 65,
   "metadata": {},
   "outputs": [
    {
     "data": {
      "text/plain": [
       "[]"
      ]
     },
     "execution_count": 65,
     "metadata": {},
     "output_type": "execute_result"
    }
   ],
   "source": [
    "cur = conn.cursor()\n",
    "# Execute a SQL query to select data from a table\n",
    "cur.execute(\"SELECT * FROM mining_data\")\n",
    "# Fetch the results\n",
    "results = cur.fetchall()\n",
    "results"
   ]
  },
  {
   "cell_type": "code",
   "execution_count": 66,
   "metadata": {},
   "outputs": [
    {
     "data": {
      "text/html": [
       "<div>\n",
       "<style scoped>\n",
       "    .dataframe tbody tr th:only-of-type {\n",
       "        vertical-align: middle;\n",
       "    }\n",
       "\n",
       "    .dataframe tbody tr th {\n",
       "        vertical-align: top;\n",
       "    }\n",
       "\n",
       "    .dataframe thead th {\n",
       "        text-align: right;\n",
       "    }\n",
       "</style>\n",
       "<table border=\"1\" class=\"dataframe\">\n",
       "  <thead>\n",
       "    <tr style=\"text-align: right;\">\n",
       "      <th></th>\n",
       "      <th>mining_algo</th>\n",
       "      <th>network_hash_rate</th>\n",
       "      <th>available_on_nicehash_percent</th>\n",
       "      <th>1_hour_attack_cost</th>\n",
       "      <th>24_hours_attack_cost</th>\n",
       "      <th>attack_appeal</th>\n",
       "      <th>hash_rate</th>\n",
       "      <th>hash_rate_30d_average</th>\n",
       "      <th>mining_revenue_per_hash_usd</th>\n",
       "      <th>mining_revenue_per_hash_native_units</th>\n",
       "      <th>mining_revenue_per_hash_per_second_usd</th>\n",
       "      <th>mining_revenue_per_hash_per_second_native_units</th>\n",
       "      <th>mining_revenue_from_fees_percent_last_24_hours</th>\n",
       "      <th>mining_revenue_native</th>\n",
       "      <th>mining_revenue_usd</th>\n",
       "      <th>mining_revenue_total</th>\n",
       "      <th>average_difficulty</th>\n",
       "      <th>Date</th>\n",
       "    </tr>\n",
       "  </thead>\n",
       "  <tbody>\n",
       "    <tr>\n",
       "      <th>0</th>\n",
       "      <td>SHA-256</td>\n",
       "      <td>334978 PH/s</td>\n",
       "      <td>0.043239</td>\n",
       "      <td>None</td>\n",
       "      <td>None</td>\n",
       "      <td>None</td>\n",
       "      <td>323675130.890479</td>\n",
       "      <td>332859685.871674</td>\n",
       "      <td>0.000001</td>\n",
       "      <td>0.0</td>\n",
       "      <td>0.078492</td>\n",
       "      <td>0.000003</td>\n",
       "      <td>3.603432</td>\n",
       "      <td>901.22503</td>\n",
       "      <td>25405814.413858</td>\n",
       "      <td>49531696788.625618</td>\n",
       "      <td>46843400286276.546875</td>\n",
       "      <td>2023-04-07T17:36:49.198027238Z</td>\n",
       "    </tr>\n",
       "  </tbody>\n",
       "</table>\n",
       "</div>"
      ],
      "text/plain": [
       "  mining_algo network_hash_rate available_on_nicehash_percent  \\\n",
       "0     SHA-256       334978 PH/s                      0.043239   \n",
       "\n",
       "  1_hour_attack_cost 24_hours_attack_cost attack_appeal         hash_rate  \\\n",
       "0               None                 None          None  323675130.890479   \n",
       "\n",
       "  hash_rate_30d_average mining_revenue_per_hash_usd  \\\n",
       "0      332859685.871674                    0.000001   \n",
       "\n",
       "  mining_revenue_per_hash_native_units mining_revenue_per_hash_per_second_usd  \\\n",
       "0                                  0.0                               0.078492   \n",
       "\n",
       "  mining_revenue_per_hash_per_second_native_units  \\\n",
       "0                                        0.000003   \n",
       "\n",
       "  mining_revenue_from_fees_percent_last_24_hours mining_revenue_native  \\\n",
       "0                                       3.603432             901.22503   \n",
       "\n",
       "  mining_revenue_usd mining_revenue_total     average_difficulty  \\\n",
       "0    25405814.413858   49531696788.625618  46843400286276.546875   \n",
       "\n",
       "                             Date  \n",
       "0  2023-04-07T17:36:49.198027238Z  "
      ]
     },
     "execution_count": 66,
     "metadata": {},
     "output_type": "execute_result"
    }
   ],
   "source": [
    "e.head()"
   ]
  },
  {
   "cell_type": "code",
   "execution_count": 67,
   "metadata": {},
   "outputs": [],
   "source": [
    "columns= ['mining_algo', 'network_hash_rate', 'available_on_nicehash_percent',\n",
    "'one_hour_attack_cost', 'twenty_four_hours_attack_cost', 'attack_appeal',\n",
    "'hash_rate', 'hash_rate_30d_average', 'mining_revenue_per_hash_usd',\n",
    "'mining_revenue_per_hash_native_units',\n",
    "'mining_revenue_per_hash_per_second_usd',\n",
    "'mining_revenue_per_hash_per_second_native_units',\n",
    "'mining_revenue_from_fees_percent_last_24_hours',\n",
    "'mining_revenue_native', 'mining_revenue_usd', 'mining_revenue_total',\n",
    "'average_difficulty', 'Date']"
   ]
  },
  {
   "cell_type": "code",
   "execution_count": 68,
   "metadata": {},
   "outputs": [],
   "source": [
    "from psycopg2.extras import execute_values\n",
    "cur = conn.cursor()\n",
    "# Define the table name\n",
    "table_name = 'mining_data'\n",
    "# Define the columns you want to insert data into\n",
    "columns = columns\n",
    "# Generate \n",
    "values = [tuple(x) for x in e.to_numpy()]\n",
    "insert_sql = f\"INSERT INTO {table_name} ({', '.join(columns)}) VALUES %s\"\n",
    "# Execute the INSERT statement using execute_values\n",
    "cur.execute(\"BEGIN\")\n",
    "execute_values(cur, insert_sql, values)\n",
    "cur.execute(\"COMMIT\")\n",
    "# Close the cursor and connection\n",
    "#cur.close()\n",
    "#conn.close()"
   ]
  },
  {
   "cell_type": "code",
   "execution_count": 43,
   "metadata": {},
   "outputs": [],
   "source": [
    "# Si hay algun error volver de la transaccion (OJO: solo usar cuando haya un error en la transaccion)\n",
    "conn.rollback()"
   ]
  },
  {
   "cell_type": "code",
   "execution_count": 69,
   "metadata": {},
   "outputs": [],
   "source": [
    "cur.close()"
   ]
  },
  {
   "cell_type": "code",
   "execution_count": 70,
   "metadata": {},
   "outputs": [],
   "source": [
    "conn.close()"
   ]
  }
 ],
 "metadata": {
  "kernelspec": {
   "display_name": "Python 3",
   "language": "python",
   "name": "python3"
  },
  "language_info": {
   "codemirror_mode": {
    "name": "ipython",
    "version": 3
   },
   "file_extension": ".py",
   "mimetype": "text/x-python",
   "name": "python",
   "nbconvert_exporter": "python",
   "pygments_lexer": "ipython3",
   "version": "3.10.11"
  },
  "orig_nbformat": 4
 },
 "nbformat": 4,
 "nbformat_minor": 2
}
